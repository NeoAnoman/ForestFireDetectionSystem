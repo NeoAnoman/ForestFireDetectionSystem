{
 "cells": [
  {
   "cell_type": "code",
   "execution_count": 1,
   "metadata": {
    "colab": {
     "base_uri": "https://localhost:8080/",
     "height": 54
    },
    "colab_type": "code",
    "id": "M3OBXeh6VWr0",
    "outputId": "3f7bd6d4-e5bc-4fd2-c6b2-925995be836f"
   },
   "outputs": [
    {
     "name": "stdout",
     "output_type": "stream",
     "text": [
      "Found 1804 images belonging to 2 classes.\n",
      "Found 200 images belonging to 2 classes.\n"
     ]
    }
   ],
   "source": [
    "import tensorflow as tf\n",
    "import keras_preprocessing\n",
    "from keras_preprocessing import image\n",
    "from keras_preprocessing.image import ImageDataGenerator\n",
    "import shutil\n",
    "TRAINING_DIR = \"./Dataset3/Train\"\n",
    "\n",
    "training_datagen = ImageDataGenerator(rescale=1./255,\n",
    "\t\t\t\t\t\t\t\t\t\t\t\t\t\t\t\t\t\t\tzoom_range=0.15,\n",
    "\t\t\t\t\t\t\t\t\t\t\t\t\t\t\t\t\t\t\thorizontal_flip=True,\n",
    "                                      fill_mode='nearest')\n",
    "\n",
    "VALIDATION_DIR = \"./Dataset3/Test\"\n",
    "validation_datagen = ImageDataGenerator(rescale = 1./255)\n",
    "\n",
    "train_generator = training_datagen.flow_from_directory(\n",
    "\tTRAINING_DIR,\n",
    "\ttarget_size=(224,224),\n",
    "\tshuffle = True,\n",
    "\tclass_mode='categorical',\n",
    "  batch_size = 128\n",
    ")\n",
    "\n",
    "validation_generator = validation_datagen.flow_from_directory(\n",
    "\tVALIDATION_DIR,\n",
    "\ttarget_size=(224,224),\n",
    "\tclass_mode='categorical',\n",
    "\tshuffle = True,\n",
    "  batch_size= 14\n",
    ")"
   ]
  },
  {
   "cell_type": "code",
   "execution_count": 3,
   "metadata": {
    "colab": {
     "base_uri": "https://localhost:8080/",
     "height": 74
    },
    "colab_type": "code",
    "id": "HH1NABoFzDd0",
    "outputId": "f5c9368f-3cd9-4c49-fcc3-f3182e15ad9b"
   },
   "outputs": [],
   "source": [
    "from tensorflow.keras.applications.inception_v3 import InceptionV3\n",
    "from tensorflow.keras.preprocessing import image\n",
    "from tensorflow.keras.models import Model\n",
    "from tensorflow.keras.layers import Dense, GlobalAveragePooling2D, Input, Dropout\n",
    "\n",
    "input_tensor = Input(shape=(224, 224, 3))\n",
    "\n",
    "base_model = InceptionV3(input_tensor=input_tensor, weights='imagenet', include_top=False)\n",
    "\n",
    "# add a global spatial average pooling layer\n",
    "x = base_model.output\n",
    "x = GlobalAveragePooling2D()(x)\n",
    "x = Dense(2048, activation='relu')(x)\n",
    "x = Dropout(0.25)(x)\n",
    "x = Dense(1024, activation='relu')(x)\n",
    "x = Dropout(0.2)(x)\n",
    "predictions = Dense(2, activation='softmax')(x)\n",
    "\n",
    "model = Model(inputs=base_model.input, outputs=predictions)\n",
    "\n",
    "for layer in base_model.layers:\n",
    "    layer.trainable = False\n",
    "\n",
    "model.compile(optimizer='rmsprop', loss='categorical_crossentropy', metrics=['acc'])"
   ]
  },
  {
   "cell_type": "code",
   "execution_count": 4,
   "metadata": {
    "colab": {
     "base_uri": "https://localhost:8080/",
     "height": 745
    },
    "colab_type": "code",
    "id": "l5Uua4-UUP5k",
    "outputId": "c2ddabee-31d9-4d61-b4f2-2ef5231e2acb"
   },
   "outputs": [
    {
     "name": "stdout",
     "output_type": "stream",
     "text": [
      "Epoch 1/20\n",
      "14/14 [==============================] - 66s 4s/step - loss: 12.6413 - acc: 0.7864 - val_loss: 0.1247 - val_acc: 0.9541\n",
      "Epoch 2/20\n",
      "14/14 [==============================] - 61s 4s/step - loss: 0.0851 - acc: 0.9642 - val_loss: 0.4982 - val_acc: 0.8980\n",
      "Epoch 3/20\n",
      "14/14 [==============================] - 60s 4s/step - loss: 0.6390 - acc: 0.8807 - val_loss: 0.1154 - val_acc: 0.9643\n",
      "Epoch 4/20\n",
      "14/14 [==============================] - 60s 5s/step - loss: 0.0737 - acc: 0.9726 - val_loss: 0.1100 - val_acc: 0.9643\n",
      "Epoch 5/20\n",
      "14/14 [==============================] - 60s 4s/step - loss: 0.4483 - acc: 0.8944 - val_loss: 0.2338 - val_acc: 0.8827\n",
      "Epoch 6/20\n",
      "14/14 [==============================] - 60s 4s/step - loss: 0.1532 - acc: 0.9457 - val_loss: 0.1113 - val_acc: 0.9643\n",
      "Epoch 7/20\n",
      "14/14 [==============================] - 60s 4s/step - loss: 0.0803 - acc: 0.9767 - val_loss: 2.0127 - val_acc: 0.6990\n",
      "Epoch 8/20\n",
      "14/14 [==============================] - 59s 4s/step - loss: 0.2535 - acc: 0.9320 - val_loss: 1.0491 - val_acc: 0.7755\n",
      "Epoch 9/20\n",
      "14/14 [==============================] - 57s 4s/step - loss: 0.0885 - acc: 0.9732 - val_loss: 0.1298 - val_acc: 0.9592\n",
      "Epoch 10/20\n",
      "14/14 [==============================] - 58s 4s/step - loss: 0.1148 - acc: 0.9660 - val_loss: 0.1014 - val_acc: 0.9643\n",
      "Epoch 11/20\n",
      "14/14 [==============================] - 57s 4s/step - loss: 0.0435 - acc: 0.9815 - val_loss: 0.1341 - val_acc: 0.9694\n",
      "Epoch 12/20\n",
      "14/14 [==============================] - 57s 4s/step - loss: 0.1647 - acc: 0.9511 - val_loss: 0.3258 - val_acc: 0.9337\n",
      "Epoch 13/20\n",
      "14/14 [==============================] - 57s 4s/step - loss: 0.1289 - acc: 0.9582 - val_loss: 0.1227 - val_acc: 0.9592\n",
      "Epoch 14/20\n",
      "14/14 [==============================] - 57s 4s/step - loss: 0.0510 - acc: 0.9821 - val_loss: 0.1125 - val_acc: 0.9694\n",
      "Epoch 15/20\n",
      "14/14 [==============================] - 61s 4s/step - loss: 0.0549 - acc: 0.9827 - val_loss: 0.6561 - val_acc: 0.7398\n",
      "Epoch 16/20\n",
      "14/14 [==============================] - 59s 4s/step - loss: 0.3030 - acc: 0.9391 - val_loss: 0.0997 - val_acc: 0.9592\n",
      "Epoch 17/20\n",
      "14/14 [==============================] - 58s 4s/step - loss: 0.0227 - acc: 0.9922 - val_loss: 0.1997 - val_acc: 0.9643\n",
      "Epoch 18/20\n",
      "14/14 [==============================] - 60s 4s/step - loss: 0.0217 - acc: 0.9928 - val_loss: 0.1941 - val_acc: 0.9643\n",
      "Epoch 19/20\n",
      "14/14 [==============================] - 56s 4s/step - loss: 0.0681 - acc: 0.9809 - val_loss: 0.1253 - val_acc: 0.9643\n",
      "Epoch 20/20\n",
      "14/14 [==============================] - 60s 4s/step - loss: 0.0633 - acc: 0.9833 - val_loss: 0.0654 - val_acc: 0.9745\n",
      "\n",
      "\n",
      " Reached The Destination!\n"
     ]
    }
   ],
   "source": [
    "class myCallback(tf.keras.callbacks.Callback):\n",
    "  def on_epoch_end(self, epoch, logs={}):\n",
    "    if(logs.get('val_loss')<=0.1099 and logs.get('loss')<=0.1099):\n",
    "      print('\\n\\n Reached The Destination!')\n",
    "      self.model.stop_training = True\n",
    "callbacks = myCallback()\n",
    "\n",
    "history = model.fit(\n",
    "    train_generator,\n",
    "    steps_per_epoch = 14,\n",
    "    epochs = 20,\n",
    "    validation_data = validation_generator,\n",
    "    validation_steps = 14,\n",
    "    callbacks=[callbacks]\n",
    ")"
   ]
  },
  {
   "cell_type": "code",
   "execution_count": 5,
   "metadata": {
    "colab": {
     "base_uri": "https://localhost:8080/",
     "height": 399
    },
    "colab_type": "code",
    "id": "quS_DTwyBT1K",
    "outputId": "9cd463ed-a852-4368-ca52-316938eb2e7e"
   },
   "outputs": [
    {
     "name": "stdout",
     "output_type": "stream",
     "text": [
      "Epoch 1/10\n",
      "14/14 [==============================] - 73s 5s/step - loss: 0.3660 - acc: 0.8300 - val_loss: 0.1022 - val_acc: 0.9745\n",
      "Epoch 2/10\n",
      "14/14 [==============================] - 76s 5s/step - loss: 0.2991 - acc: 0.8568 - val_loss: 0.1018 - val_acc: 0.9745\n",
      "Epoch 3/10\n",
      "14/14 [==============================] - 73s 5s/step - loss: 0.2287 - acc: 0.8890 - val_loss: 0.1051 - val_acc: 0.9745\n",
      "Epoch 4/10\n",
      "14/14 [==============================] - 76s 5s/step - loss: 0.1993 - acc: 0.9129 - val_loss: 0.1080 - val_acc: 0.9745\n",
      "Epoch 5/10\n",
      "14/14 [==============================] - 72s 5s/step - loss: 0.1571 - acc: 0.9374 - val_loss: 0.1108 - val_acc: 0.9694\n",
      "Epoch 6/10\n",
      "14/14 [==============================] - 71s 5s/step - loss: 0.1461 - acc: 0.9409 - val_loss: 0.1123 - val_acc: 0.9694\n",
      "Epoch 7/10\n",
      "14/14 [==============================] - 72s 5s/step - loss: 0.1383 - acc: 0.9499 - val_loss: 0.1162 - val_acc: 0.9694\n",
      "Epoch 8/10\n",
      "14/14 [==============================] - 72s 5s/step - loss: 0.1096 - acc: 0.9648 - val_loss: 0.1140 - val_acc: 0.9694\n",
      "Epoch 9/10\n",
      "14/14 [==============================] - 75s 5s/step - loss: 0.1039 - acc: 0.9642 - val_loss: 0.1178 - val_acc: 0.9694\n",
      "Epoch 10/10\n",
      "14/14 [==============================] - 81s 6s/step - loss: 0.1038 - acc: 0.9666 - val_loss: 0.1189 - val_acc: 0.9745\n",
      "311\n"
     ]
    }
   ],
   "source": [
    "\n",
    "for layer in model.layers[:249]:\n",
    "   layer.trainable = False\n",
    "for layer in model.layers[249:]:\n",
    "   layer.trainable = True\n",
    "\n",
    "from tensorflow.keras.optimizers import SGD\n",
    "model.compile(optimizer=SGD(learning_rate=0.0001, momentum=0.9), loss='categorical_crossentropy', metrics=['acc'])\n",
    "\n",
    "\n",
    "class myCallback(tf.keras.callbacks.Callback):\n",
    "  def on_epoch_end(self, epoch, logs={}):\n",
    "    if(logs.get('val_loss')<=0.1099 and logs.get('loss')<=0.1099):\n",
    "      print('\\n\\n Reached The Destination!')\n",
    "      self.model.stop_training = True\n",
    "callbacks = myCallback()\n",
    "\n",
    "history = model.fit(\n",
    "    train_generator,\n",
    "    steps_per_epoch = 14,\n",
    "    epochs = 10,\n",
    "    validation_data = validation_generator,\n",
    "    validation_steps = 14,\n",
    "    callbacks=[callbacks]\n",
    ")\n",
    "print(len(base_model.layers))"
   ]
  },
  {
   "cell_type": "code",
   "execution_count": 6,
   "metadata": {
    "colab": {
     "base_uri": "https://localhost:8080/",
     "height": 581
    },
    "colab_type": "code",
    "id": "MfavSDNZkKXq",
    "outputId": "e22978a0-ba3c-4ec2-f226-e12f06abe502"
   },
   "outputs": [
    {
     "data": {
      "image/png": "[encoded data removed]",
      "text/plain": [
       "<Figure size 432x288 with 1 Axes>"
      ]
     },
     "metadata": {
      "needs_background": "light"
     },
     "output_type": "display_data"
    },
    {
     "data": {
      "text/plain": [
       "<Figure size 432x288 with 0 Axes>"
      ]
     },
     "metadata": {},
     "output_type": "display_data"
    },
    {
     "data": {
      "image/png": "[encoded data removed]",
      "text/plain": [
       "<Figure size 432x288 with 1 Axes>"
      ]
     },
     "metadata": {
      "needs_background": "light"
     },
     "output_type": "display_data"
    },
    {
     "data": {
      "text/plain": [
       "<Figure size 432x288 with 0 Axes>"
      ]
     },
     "metadata": {},
     "output_type": "display_data"
    }
   ],
   "source": [
    "%matplotlib inline\n",
    "import matplotlib.pyplot as plt\n",
    "acc = history.history['acc']\n",
    "val_acc = history.history['val_acc']\n",
    "loss = history.history['loss']\n",
    "val_loss = history.history['val_loss']\n",
    "\n",
    "epochs = range(len(acc))\n",
    "\n",
    "plt.plot(epochs, acc, 'g', label='Training accuracy')\n",
    "plt.plot(epochs, val_acc, 'b', label='Validation accuracy')\n",
    "plt.title('Training and validation accuracy')\n",
    "\n",
    "plt.legend(loc=0)\n",
    "plt.figure()\n",
    "plt.show()\n",
    "\n",
    "plt.plot(epochs, loss, 'r', label='Training loss')\n",
    "plt.plot(epochs, val_loss, 'orange', label='Validation loss')\n",
    "plt.title('Training and validation loss')\n",
    "\n",
    "plt.legend(loc=0)\n",
    "plt.figure()\n",
    "plt.show()"
   ]
  },
  {
   "cell_type": "code",
   "execution_count": 7,
   "metadata": {
    "colab": {},
    "colab_type": "code",
    "id": "lsD4EFzQNSSx"
   },
   "outputs": [
    {
     "name": "stdout",
     "output_type": "stream",
     "text": [
      "./fire/fog2.jpg False 0.935806\n"
     ]
    }
   ],
   "source": [
    "#predicting any random image\n",
    "import numpy as np\n",
    "from keras.preprocessing import image\n",
    "# files = [\"./fire/1.jpg\", \"./fire/2.jpg\", \"./fire/3.jpg\", \"./fire/4.jpg\", \"./fire/5.jpg\", \"./fire/11.jpg\"]\n",
    "files = [\"./fire/fog2.jpg\"]\n",
    "\n",
    "for path in files:\n",
    "  img = image.load_img(path, target_size=(224, 224))\n",
    "  x = image.img_to_array(img)\n",
    "  x = np.expand_dims(x, axis=0) /255\n",
    "  classes = model.predict(x)\n",
    "  print(path, np.argmax(classes[0])==0, max(classes[0]))"
   ]
  },
  {
   "cell_type": "code",
   "execution_count": null,
   "metadata": {},
   "outputs": [],
   "source": []
  },
  {
   "cell_type": "code",
   "execution_count": null,
   "metadata": {},
   "outputs": [],
   "source": []
  }
 ],
 "metadata": {
  "accelerator": "GPU",
  "colab": {
   "collapsed_sections": [],
   "name": "InceptionFireDetection.ipynb",
   "provenance": []
  },
  "kernelspec": {
   "display_name": "Python 3 (ipykernel)",
   "language": "python",
   "name": "python3"
  },
  "language_info": {
   "codemirror_mode": {
    "name": "ipython",
    "version": 3
   },
   "file_extension": ".py",
   "mimetype": "text/x-python",
   "name": "python",
   "nbconvert_exporter": "python",
   "pygments_lexer": "ipython3",
   "version": "3.9.7"
  }
 },
 "nbformat": 4,
 "nbformat_minor": 1
}
